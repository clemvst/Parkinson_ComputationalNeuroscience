{
 "cells": [
  {
   "cell_type": "code",
   "execution_count": 1,
   "metadata": {},
   "outputs": [],
   "source": [
    "import matplotlib.pyplot as plt"
   ]
  },
  {
   "cell_type": "markdown",
   "metadata": {},
   "source": [
    "<img src=\"equations_article.png\" width=\"450px\" height=\"300px\">\n",
    "<img src=\"equations2_article.png\" width=\"450px\" height=\"300px\">"
   ]
  },
  {
   "cell_type": "code",
   "execution_count": null,
   "metadata": {},
   "outputs": [],
   "source": [
    "# Parameters\n",
    "\n",
    "# defaultclock.dt=0.1*ms # for better precision\n",
    "\n",
    "thet = {\"e\": 1.3, \"i\": 2.0}\n",
    "b = {\"e\": 4.0, \"i\": 3.7}\n",
    "k = {\"e\": 0.9945, \"i\": 0.9994}\n",
    "\n",
    "# tau doivent etre entre 10 et 20 ms\n",
    "tau_cx = 10\n",
    "tau_th = 10\n",
    "tau_nrt = 10\n",
    "tau_dcn = 10\n",
    "tau_gpe = 10\n",
    "tau_gpi = 10\n",
    "tau_stn = 10\n",
    "\n",
    "# Healthy state parameters\n",
    "w = [0, 20, 5, 8, 25, 15, 5, 19, 5, 15, 20, 20]\n",
    "\n",
    "w1 = 20\n",
    "w2 = 5\n",
    "w3 = 8\n",
    "w4 = 25\n",
    "w5 = 15\n",
    "w6 = 5\n",
    "w7 = 19\n",
    "w8 = 5\n",
    "w9 = 15\n",
    "w10 = 20\n",
    "w11 = 20\n",
    "ext = 3.42\n",
    "\n",
    "# # Tremor band parameters\n",
    "# w1 = 20\n",
    "# w2 = 12\n",
    "# w3 = 8\n",
    "# w4 = 9\n",
    "# w5 = 15\n",
    "# w6 = 5\n",
    "# w7 = 5\n",
    "# w8 = 5\n",
    "# w9 = 15\n",
    "# w10 = 20\n",
    "# w11 = 20\n",
    "# ext = 3.42\n",
    "\n",
    "# # Beta band parameters\n",
    "# w1 = 20\n",
    "# w2 = 5\n",
    "# w3 = 8\n",
    "# w4 = 20\n",
    "# w5 = 15\n",
    "# w6 = 5\n",
    "# w7 = 5\n",
    "# w8 = 5\n",
    "# w9 = 15\n",
    "# w10 = 20\n",
    "# w11 = 20\n",
    "# ext = 3.42"
   ]
  },
  {
   "cell_type": "code",
   "execution_count": null,
   "metadata": {},
   "outputs": [],
   "source": [
    "# Z function\n",
    "\n",
    "def Z(x,p):\n",
    "    return (1 / (1 + exp(- b[p] * (x - thet[p])))) - (1 / (1 + exp(b[p] * thet[p])))\n",
    "\n",
    "\n",
    "# Equations\n",
    "\n",
    "# dE_cx/dt = (- E_cx + (k_e - E_cx) * Z_e(w1 * E_th)) / tau_cx : 1\n",
    "# dE_th/dt = (- E_th + (k_e - E_th) * Z_e(w2 * E_cx - w3 * I_nrt + w4 * E_dcn - w5 * I_gpi)) / tau_th : 1\n",
    "# dI_nrt/dt = (- I_nrt + (k_i - I_nrt) * Z_i(w6 * E_cx)) / tau_nrt : 1\n",
    "# dE_dcn/dt = (- E_dcn + (k_e - E_dcn) * Z_e(ext)) / tau_dcn : 1\n",
    "# dI_gpe/dt = (- I_gpe + (k_i - I_gpe) * Z_i(w7 * E_stn - w8 * I_gpe)) / tau_gpe : 1\n",
    "# dI_gpi/dt = (- I_gpi + (k_i - I_gpi) * Z_i(w9 * E_stn)) / tau_gpi : 1\n",
    "# dE_stn/dt = (- E_stn + (k_e - E_stn) * Z_e(w10 * E_cx - w11 * I_gpe)) / tau_stn : 1"
   ]
  }
 ],
 "metadata": {
  "kernelspec": {
   "display_name": "ComputationalRobotics",
   "language": "python",
   "name": "computationalrobotics"
  },
  "language_info": {
   "codemirror_mode": {
    "name": "ipython",
    "version": 3
   },
   "file_extension": ".py",
   "mimetype": "text/x-python",
   "name": "python",
   "nbconvert_exporter": "python",
   "pygments_lexer": "ipython3",
   "version": "3.7.9"
  }
 },
 "nbformat": 4,
 "nbformat_minor": 4
}
