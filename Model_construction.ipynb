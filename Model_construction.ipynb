{
 "cells": [
  {
   "cell_type": "code",
   "execution_count": 1,
   "metadata": {},
   "outputs": [],
   "source": [
    "from brian2 import *\n",
    "import matplotlib.pyplot as plt"
   ]
  },
  {
   "cell_type": "markdown",
   "metadata": {},
   "source": [
    "<img src=\"equations_article.png\" width=\"450px\" height=\"300px\">\n",
    "<img src=\"equations2_article.png\" width=\"450px\" height=\"300px\">"
   ]
  },
  {
   "cell_type": "code",
   "execution_count": 5,
   "metadata": {},
   "outputs": [],
   "source": [
    "# Zp(x) = (1 / (1 + exp(- bp * (x - op)))) - (1 / (1 + exp(bp * op)))\n",
    "\n",
    "# Ze(x) = (1 / (1 + exp(- b_e * (x - thet_e)))) - (1 / (1 + exp(b_e * thet_e)))\n",
    "\n",
    "# Zi(x) = (1 / (1 + exp(- b_i * (x - thet_i)))) - (1 / (1 + exp(b_i * thet_i)))\n",
    "\n",
    "# Z in the different equations\n",
    "\n",
    "# Z_e(w1 * E_th) = (1 / (1 + exp(- b_e * ((w1 * E_th) - thet_e)))) - (1 / (1 + exp(b_e * thet_e)))\n",
    "\n",
    "# Z_e(w2 * E_cx - w3 * I_nrt + w4 * E_dcn - w5 * I_gpi) = (1 / (1 + exp(- b_e * ((w2 * E_cx - w3 * I_nrt + w4 * E_dcn - w5 * I_gpi) - thet_e)))) - (1 / (1 + exp(b_e * thet_e)))\n",
    "\n",
    "# Z_i(w6 * E_cx) = (1 / (1 + exp(- b_i * ((w6 * E_cx) - thet_i)))) - (1 / (1 + exp(b_i * thet_i)))\n",
    "\n",
    "# Z_e(ext) = (1 / (1 + exp(- b_e * (ext - thet_e)))) - (1 / (1 + exp(b_e * thet_e)))\n",
    "\n",
    "# Z_i(w7 * E_stn - w8 * I_gpe) = (1 / (1 + exp(- b_i * ((w7 * E_stn - w8 * I_gpe) - thet_i)))) - (1 / (1 + exp(b_i * thet_i)))\n",
    "\n",
    "# Z_i(w9 * E_stn) = (1 / (1 + exp(- b_i * ((w9 * E_stn) - thet_i)))) - (1 / (1 + exp(b_i * thet_i)))\n",
    "\n",
    "# Z_e(w10 * E_cx - w11 * I_gpe) = (1 / (1 + exp(- b_e * ((w10 * E_cx - w11 * I_gpe) - thet_e)))) - (1 / (1 + exp(b_e * thet_e)))\n",
    "\n",
    "# Equations non-expand\n",
    "# eqs_ne = Equations(\n",
    "#     \"\"\"\n",
    "# dE_cx/dt = (- E_cx + (k_e - E_cx) * Z_e(w1 * E_th)) / tau_cx : 1\n",
    "# dE_th/dt = (- E_th + (k_e - E_th) * Z_e(w2 * E_cx - w3 * I_nrt + w4 * E_dcn - w5 * I_gpi)) / tau_th : 1\n",
    "# dI_nrt/dt = (- I_nrt + (k_i - I_nrt) * Z_i(w6 * E_cx)) / tau_nrt : 1\n",
    "# dE_dcn/dt = (- E_dcn + (k_e - E_dcn) * Z_e(ext)) / tau_dcn : 1\n",
    "# dI_gpe/dt = (- I_gpe + (k_i - I_gpe) * Z_i(w7 * E_stn - w8 * I_gpe)) / tau_gpe : 1\n",
    "# dI_gpi/dt = (- I_gpi + (k_i - I_gpi) * Z_i(w9 * E_stn)) / tau_gpi : 1\n",
    "# dE_stn/dt = (- E_stn + (k_e - E_stn) * Z_e(w10 * E_cx - w11 * I_gpe)) / tau_stn : 1\n",
    "# \"\"\"\n",
    "# )\n",
    "\n",
    "# Equations\n",
    "eqs = Equations(\n",
    "    \"\"\"\n",
    "dE_cx/dt = (- E_cx + (k_e - E_cx) * (1 / (1 + exp(- b_e * ((w1 * E_th) - thet_e)))) - (1 / (1 + exp(b_e * thet_e)))) / tau_cx : 1\n",
    "dE_th/dt = (- E_th + (k_e - E_th) * (1 / (1 + exp(- b_e * ((w2 * E_cx - w3 * I_nrt + w4 * E_dcn - w5 * I_gpi) - thet_e)))) - (1 / (1 + exp(b_e * thet_e)))) / tau_th : 1\n",
    "dI_nrt/dt = (- I_nrt + (k_i - I_nrt) * (1 / (1 + exp(- b_i * ((w6 * E_cx) - thet_i)))) - (1 / (1 + exp(b_i * thet_i)))) / tau_nrt : 1\n",
    "dE_dcn/dt = (- E_dcn + (k_e - E_dcn) * (1 / (1 + exp(- b_e * (ext - thet_e)))) - (1 / (1 + exp(b_e * thet_e)))) / tau_dcn : 1\n",
    "dI_gpe/dt = (- I_gpe + (k_i - I_gpe) * (1 / (1 + exp(- b_i * ((w7 * E_stn - w8 * I_gpe) - thet_i)))) - (1 / (1 + exp(b_i * thet_i)))) / tau_gpe : 1\n",
    "dI_gpi/dt = (- I_gpi + (k_i - I_gpi) * (1 / (1 + exp(- b_i * ((w9 * E_stn) - thet_i)))) - (1 / (1 + exp(b_i * thet_i)))) / tau_gpi : 1\n",
    "dE_stn/dt = (- E_stn + (k_e - E_stn) * (1 / (1 + exp(- b_e * ((w10 * E_cx - w11 * I_gpe) - thet_e)))) - (1 / (1 + exp(b_e * thet_e)))) / tau_stn : 1\n",
    "\"\"\"\n",
    ")"
   ]
  },
  {
   "cell_type": "code",
   "execution_count": 6,
   "metadata": {},
   "outputs": [],
   "source": [
    "# Parameters\n",
    "\n",
    "k_e = 0.9945\n",
    "k_i = 0.9994\n",
    "\n",
    "thet_e = 1.3\n",
    "b_e = 4\n",
    "\n",
    "thet_i = 2.0\n",
    "b_i = 3.7\n",
    "\n",
    "\n",
    "w1 = 20\n",
    "w2 = 5\n",
    "w3 = 8\n",
    "w4 = 25\n",
    "w5 = 15\n",
    "w6 = 5\n",
    "w7 = 19\n",
    "w8 = 5\n",
    "w9 = 15\n",
    "w10 = 20\n",
    "w11 = 20\n",
    "ext = 3.42\n",
    "\n",
    "# tau doivent etre entre 10 et 20 ms\n",
    "\n",
    "tau_cx = 10 * ms\n",
    "tau_th = 10 * ms\n",
    "tau_nrt = 10 * ms\n",
    "tau_dcn = 10 * ms\n",
    "tau_gpe = 10 * ms\n",
    "tau_gpi = 10 * ms\n",
    "tau_stn = 10 * ms"
   ]
  },
  {
   "cell_type": "code",
   "execution_count": null,
   "metadata": {},
   "outputs": [],
   "source": []
  }
 ],
 "metadata": {
  "kernelspec": {
   "display_name": "ComputationalRobotics",
   "language": "python",
   "name": "computationalrobotics"
  },
  "language_info": {
   "codemirror_mode": {
    "name": "ipython",
    "version": 3
   },
   "file_extension": ".py",
   "mimetype": "text/x-python",
   "name": "python",
   "nbconvert_exporter": "python",
   "pygments_lexer": "ipython3",
   "version": "3.7.9"
  }
 },
 "nbformat": 4,
 "nbformat_minor": 4
}
